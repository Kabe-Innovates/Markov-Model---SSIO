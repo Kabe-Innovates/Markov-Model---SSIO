{
 "cells": [
  {
   "cell_type": "markdown",
   "id": "eb1309d0",
   "metadata": {},
   "source": [
    "Getting Inputs"
   ]
  },
  {
   "cell_type": "code",
   "execution_count": 2,
   "id": "6d97b45c",
   "metadata": {},
   "outputs": [],
   "source": [
    "ArrivalTime = int(input(\"Enter the mean inter arrival time of objects from feeder (in secs) : \"))\n",
    "ServiceTime = int(input(\"Enter the mean inter service time of the Lathe Machine (in secs) : \"))\n",
    "TimeByRobot = int(input(\"Enter the time taken by the Robot (in secs) : \"))"
   ]
  },
  {
   "cell_type": "markdown",
   "id": "9782f922",
   "metadata": {},
   "source": [
    "Calculating Lambda and Mu"
   ]
  },
  {
   "cell_type": "code",
   "execution_count": 4,
   "id": "683399bf",
   "metadata": {},
   "outputs": [
    {
     "name": "stdout",
     "output_type": "stream",
     "text": [
      "Value of Lambda λ : 0.083\n",
      "Value of Mu μ : 1.000\n"
     ]
    }
   ],
   "source": [
    "Lambda = 1 / ArrivalTime\n",
    "Mu = 1 / ServiceTime\n",
    "print(f\"Value of Lambda λ : {Lambda:.3f}\")\n",
    "print(f\"Value of Mu μ : {Mu:.3f}\",)"
   ]
  },
  {
   "cell_type": "markdown",
   "id": "b3ae5203",
   "metadata": {},
   "source": [
    "**Single Server with Infinite Capacity - (M/M/1):(∞/FIFO)**\n"
   ]
  },
  {
   "cell_type": "code",
   "execution_count": 6,
   "id": "62086a54",
   "metadata": {},
   "outputs": [
    {
     "name": "stdout",
     "output_type": "stream",
     "text": [
      "Average number of objects in the system : 0.09 \n",
      "Average number of objects in the conveyor :  0.01 \n",
      "Average waiting time of an object in the system : 1.09 secs\n",
      "Average waiting time of an object in the conveyor : 0.09 secs\n",
      "Probability that the system is busy : 0.08 \n",
      "Probability that the system is empty : 0.92 \n"
     ]
    }
   ],
   "source": [
    "if(Lambda < Mu):\n",
    "    Ls = Lambda / (Mu - Lambda)\n",
    "    Lq = Ls - (Lambda / Mu)\n",
    "    Ws = Ls / Lambda\n",
    "    Wq = Lq / Lambda\n",
    "    print(\"Average number of objects in the system : %0.2f \"%Ls)\n",
    "    print(\"Average number of objects in the conveyor :  %0.2f \"%Lq)\n",
    "    print(\"Average waiting time of an object in the system : %0.2f secs\"%Ws)\n",
    "    print(\"Average waiting time of an object in the conveyor : %0.2f secs\"%Wq)\n",
    "    print(\"Probability that the system is busy : %0.2f \"%(Lambda/Mu) )\n",
    "    print(\"Probability that the system is empty : %0.2f \"%(1-Lambda/Mu) )\n",
    "else:\n",
    "    print(\"Warning! Objects Over flow will happen in the conveyor\")\n"
   ]
  }
 ],
 "metadata": {
  "kernelspec": {
   "display_name": "base",
   "language": "python",
   "name": "python3"
  },
  "language_info": {
   "codemirror_mode": {
    "name": "ipython",
    "version": 3
   },
   "file_extension": ".py",
   "mimetype": "text/x-python",
   "name": "python",
   "nbconvert_exporter": "python",
   "pygments_lexer": "ipython3",
   "version": "3.11.3"
  }
 },
 "nbformat": 4,
 "nbformat_minor": 5
}
